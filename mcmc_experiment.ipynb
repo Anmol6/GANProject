{
 "cells": [
  {
   "cell_type": "markdown",
   "metadata": {
    "collapsed": true
   },
   "source": [
    "# Markov Chain Monte Carlo with Gaussian Mixtures"
   ]
  },
  {
   "cell_type": "code",
   "execution_count": 11,
   "metadata": {},
   "outputs": [],
   "source": [
    "import numpy as np\n",
    "import matplotlib.pyplot as plt \n",
    "from mcmc import MCMC, GMM"
   ]
  },
  {
   "cell_type": "markdown",
   "metadata": {},
   "source": [
    "We the Gaussian mixture model GMM class below, with requires the input vectors for mean, standard deviation and the corresponding weights allotted to each cluster. These weights must sum to 1. The GMM formulation is as follows:\n",
    "\n",
    "$$\n",
    "p({\\boldsymbol {\\theta \\in \\{\\mu, \\Sigma\\} }})=\\sum _{i=1}^{K}w_i{\\mathcal {N}}({\\boldsymbol {\\mu _{i},\\Sigma _{i}}}) \\quad \\text{ s.t. } \\sum_{i=1}^K w_i = 1\n",
    "$$"
   ]
  },
  {
   "cell_type": "code",
   "execution_count": 12,
   "metadata": {},
   "outputs": [],
   "source": [
    "mu1 = [-2.0, 2.0, -5.0, -15.0]\n",
    "sd1 = [1.0, 0.5, 0.5, 0.5]\n",
    "w1 = [0.2, 0.4, 0.3, 0.1]\n",
    "mixtureDens1 = GMM(mu1, sd1, w1)"
   ]
  },
  {
   "cell_type": "markdown",
   "metadata": {},
   "source": [
    "Once the GMM class has been called and initialized, we call the MCMC class, which requires an initializing value `x0`, the variance of the proposal distribution `sigma`, and the number of samples `n` to be drawn.\n",
    "\n",
    "We can then run the MCMC procedure by calling the function mcmc from the class, which requires the initialized mixture density class object. The time required for the run will be outputed."
   ]
  },
  {
   "cell_type": "code",
   "execution_count": 14,
   "metadata": {
    "collapsed": true
   },
   "outputs": [
    {
     "name": "stdout",
     "output_type": "stream",
     "text": [
      "Elapsed time: 0.49 seconds\n"
     ]
    }
   ],
   "source": [
    "x0 = np.random.rand()\n",
    "sigma = 15\n",
    "n = int(1e4)\n",
    "\n",
    "sim = MCMC(x0=x0, sigma=sigma, n=n)\n",
    "x_out = sim.mcmc(mixtureDens1.gaussian_mixture)"
   ]
  },
  {
   "cell_type": "markdown",
   "metadata": {},
   "source": [
    "The histogram of the simulated samples is outputted in the plot below. The red line corresponds to the true density. The starting value is outputted below the plot."
   ]
  },
  {
   "cell_type": "code",
   "execution_count": 16,
   "metadata": {
    "collapsed": true
   },
   "outputs": [
    {
     "data": {
      "image/png": "[encoded data removed]",
      "text/plain": [
       "<matplotlib.figure.Figure at 0x1067c2b38>"
      ]
     },
     "metadata": {},
     "output_type": "display_data"
    },
    {
     "name": "stdout",
     "output_type": "stream",
     "text": [
      "Starting point was  0.6518521001474086\n"
     ]
    }
   ],
   "source": [
    "sim.plotHistorgram(mixtureDens1.gaussian_mixture, x_out, [-20, 5])"
   ]
  },
  {
   "cell_type": "code",
   "execution_count": null,
   "metadata": {},
   "outputs": [],
   "source": [
    ""
   ]
  }
 ],
 "metadata": {
  "kernelspec": {
   "display_name": "Python 2",
   "language": "python",
   "name": "python2"
  },
  "language_info": {
   "codemirror_mode": {
    "name": "ipython",
    "version": 2.0
   },
   "file_extension": ".py",
   "mimetype": "text/x-python",
   "name": "python",
   "nbconvert_exporter": "python",
   "pygments_lexer": "ipython2",
   "version": "2.7.6"
  }
 },
 "nbformat": 4,
 "nbformat_minor": 0
}